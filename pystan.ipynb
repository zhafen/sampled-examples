{
 "cells": [
  {
   "cell_type": "code",
   "execution_count": null,
   "id": "68d68c19-b95b-4049-ac40-300c8c2976f5",
   "metadata": {},
   "outputs": [],
   "source": [
    "import numpy as np"
   ]
  },
  {
   "cell_type": "code",
   "execution_count": null,
   "id": "acdefccd-7ec5-4cf3-8c78-72f16eedc721",
   "metadata": {},
   "outputs": [],
   "source": [
    "import matplotlib\n",
    "import matplotlib.pyplot as plt"
   ]
  },
  {
   "cell_type": "code",
   "execution_count": null,
   "id": "28199740-b1b4-457f-a250-852b91dd6bfb",
   "metadata": {},
   "outputs": [],
   "source": [
    "import stan\n",
    "import asyncio\n",
    "import nest_asyncio\n",
    "nest_asyncio.apply()"
   ]
  },
  {
   "cell_type": "markdown",
   "id": "0e363018-62f7-47b6-8188-7cf0a4cf8297",
   "metadata": {},
   "source": [
    "## Nonlinear model example\n",
    "\n",
    "Following [Gelman+2015](http://www.stat.columbia.edu/~gelman/research/published/stan_jebs_2.pdf).\n",
    "\n",
    "Fitting $y = a_1e^{−b_1x} + a_2e^{−b_2x}$, with samples\n",
    "$y_i = \\left( a_1e^{−b_1x} + a_2e^{−b_2x} \\right) * \\epsilon_i$ for $i = 1, \\ldots, n$ with $\\log \\epsilon_i \\sim N(0,\\sigma^2)$.\n",
    "\n",
    "Constrain $b_2 > b_1$---separates the components."
   ]
  },
  {
   "cell_type": "code",
   "execution_count": null,
   "id": "24a641fd-a71f-42ef-9672-4d9ee0898379",
   "metadata": {},
   "outputs": [],
   "source": [
    "stan_code = '''\n",
    "data {\n",
    "    int N;\n",
    "    vector [N] x;\n",
    "    vector [N] y;\n",
    "}\n",
    "\n",
    "parameters {\n",
    "    vector[2] log_a;\n",
    "    ordered[2] log_b;\n",
    "    real<lower=0> sigma;\n",
    "}\n",
    "\n",
    "transformed parameters {\n",
    "    vector<lower=0>[2] a;\n",
    "    vector<lower=0>[2] b;\n",
    "    a <- exp( log_a );\n",
    "    b <- exp( log_b );\n",
    "}\n",
    "\n",
    "model {\n",
    "    vector[N] ypred;\n",
    "    ypred <- a[1] * exp(-b[1]*x) + a[2] * exp(-b[2]*x);\n",
    "    y ~ lognormal(log(ypred), sigma);\n",
    "}\n",
    "'''"
   ]
  },
  {
   "cell_type": "markdown",
   "id": "0cd4e038-3dd5-4e93-bb1e-02c0550894be",
   "metadata": {},
   "source": [
    "## Create fake data"
   ]
  },
  {
   "cell_type": "code",
   "execution_count": null,
   "id": "68aca3cd-28d9-435c-9e65-2f7dc0e1af05",
   "metadata": {},
   "outputs": [],
   "source": [
    "params = {\n",
    "    'a': [ 0.8, 1 ],\n",
    "    'b': [ 2, 0.1 ],\n",
    "    'sigma': 0.2,\n",
    "}"
   ]
  },
  {
   "cell_type": "code",
   "execution_count": null,
   "id": "4fcd778a-1539-4777-b815-ea03733b2f7f",
   "metadata": {},
   "outputs": [],
   "source": [
    "N = 1000\n",
    "x = np.linspace( 0, 10, N )\n",
    "ypred = params['a'][0] * np.exp( - params['b'][0] * x ) * params['a'][1] * np.exp( - params['b'][1] )"
   ]
  },
  {
   "cell_type": "code",
   "execution_count": null,
   "id": "27dd05f3-baf5-4f11-991e-504fb5d103af",
   "metadata": {},
   "outputs": [],
   "source": [
    "rng = np.random.default_rng()\n",
    "error = rng.normal( 0, params['sigma'], N )"
   ]
  },
  {
   "cell_type": "code",
   "execution_count": null,
   "id": "1b0e3aa1-0fd6-4372-88cd-bbc40cd01f0a",
   "metadata": {},
   "outputs": [],
   "source": [
    "y_fake = ypred * np.exp( error )"
   ]
  },
  {
   "cell_type": "code",
   "execution_count": null,
   "id": "b67e6f47-7cd7-420d-9fdd-cdf42f8f9a1d",
   "metadata": {},
   "outputs": [],
   "source": [
    "fig = plt.figure()\n",
    "ax = plt.gca()\n",
    "\n",
    "ax.scatter(\n",
    "    x,\n",
    "    y_fake,\n",
    ")\n",
    "\n",
    "ax.plot(\n",
    "    x,\n",
    "    ypred,\n",
    "    color = 'r',\n",
    ")\n",
    "\n",
    "ax.set_xlabel( 'x' )\n",
    "ax.set_ylabel( 'y' )\n",
    "\n",
    "ax.set_yscale( 'log' )"
   ]
  },
  {
   "cell_type": "markdown",
   "id": "196c4498-e513-45d3-856f-9293c6ac48c7",
   "metadata": {},
   "source": [
    "## Fit the data"
   ]
  },
  {
   "cell_type": "code",
   "execution_count": null,
   "id": "618a765a-153c-449b-a401-4e415c2af8ed",
   "metadata": {},
   "outputs": [],
   "source": [
    "data = {\n",
    "    'N': N,\n",
    "    'x': x,\n",
    "    'y': y_fake,\n",
    "}"
   ]
  },
  {
   "cell_type": "code",
   "execution_count": null,
   "id": "5c997e24-021b-41f2-9816-ebc44542d74b",
   "metadata": {
    "tags": []
   },
   "outputs": [],
   "source": [
    "%%capture\n",
    "posterior = stan.build( stan_code, data=data, random_seed=1 )"
   ]
  },
  {
   "cell_type": "code",
   "execution_count": null,
   "id": "28cfa52a-0bc5-485d-929b-b98d097c0ee8",
   "metadata": {
    "tags": []
   },
   "outputs": [],
   "source": [
    "%%capture\n",
    "fit = posterior.sample(num_chains=4, num_samples=1000)"
   ]
  },
  {
   "cell_type": "code",
   "execution_count": null,
   "id": "bd52dfc4-363a-4914-a7bb-636fc85ba995",
   "metadata": {},
   "outputs": [],
   "source": [
    "fit_df = fit.to_frame()"
   ]
  },
  {
   "cell_type": "markdown",
   "id": "f79def04-0bf5-4588-bf45-25d929203adb",
   "metadata": {},
   "source": [
    "## Plot fit"
   ]
  },
  {
   "cell_type": "code",
   "execution_count": null,
   "id": "930bce00-242f-4251-9d4d-a26a79338e1b",
   "metadata": {},
   "outputs": [],
   "source": [
    "fig = plt.figure()\n",
    "main_ax = plt.gca()\n",
    "\n",
    "ax_dict = fig.subplot_mosaic(\n",
    "    [\n",
    "        [ 'a.1', 'a.2' ],\n",
    "        [ 'b.1', 'b.2', ],\n",
    "    ]\n",
    ")\n",
    "     \n",
    "for ax_key, ax in ax_dict.items():\n",
    "    \n",
    "    value_min = np.nanpercentile( np.log10( fit_df[ax_key] ), 5 )\n",
    "    value_max = np.nanpercentile( np.log10( fit_df[ax_key]), 95 )\n",
    "    bins = np.linspace( value_min, value_max, 512 )\n",
    "    \n",
    "    ax.hist(\n",
    "        np.log10( fit_df[ax_key] ),\n",
    "        bins\n",
    "    )"
   ]
  },
  {
   "cell_type": "code",
   "execution_count": null,
   "id": "fa91081a-1056-41f8-8477-6c1b9dc54fef",
   "metadata": {},
   "outputs": [],
   "source": []
  }
 ],
 "metadata": {
  "kernelspec": {
   "display_name": "Python 3 (ipykernel)",
   "language": "python",
   "name": "python3"
  },
  "language_info": {
   "codemirror_mode": {
    "name": "ipython",
    "version": 3
   },
   "file_extension": ".py",
   "mimetype": "text/x-python",
   "name": "python",
   "nbconvert_exporter": "python",
   "pygments_lexer": "ipython3",
   "version": "3.10.8"
  }
 },
 "nbformat": 4,
 "nbformat_minor": 5
}
